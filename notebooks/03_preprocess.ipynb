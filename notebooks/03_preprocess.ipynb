{
 "cells": [
  {
   "cell_type": "code",
   "execution_count": 10,
   "id": "8740c16c-e351-4afe-a609-aec4ede28a84",
   "metadata": {},
   "outputs": [],
   "source": [
    "import pandas as pd\n",
    "import string"
   ]
  },
  {
   "cell_type": "code",
   "execution_count": 11,
   "id": "45848394-5b45-48e0-b141-3946d84b2c80",
   "metadata": {},
   "outputs": [],
   "source": [
    "import nltk"
   ]
  },
  {
   "cell_type": "code",
   "execution_count": 12,
   "id": "b517e018-f500-4c21-ac69-b237e33202bc",
   "metadata": {},
   "outputs": [
    {
     "name": "stderr",
     "output_type": "stream",
     "text": [
      "[nltk_data] Downloading package stopwords to /Users/suraj/nltk_data...\n",
      "[nltk_data]   Package stopwords is already up-to-date!\n",
      "[nltk_data] Downloading package wordnet to /Users/suraj/nltk_data...\n",
      "[nltk_data]   Package wordnet is already up-to-date!\n",
      "[nltk_data] Downloading package averaged_perceptron_tagger to\n",
      "[nltk_data]     /Users/suraj/nltk_data...\n",
      "[nltk_data]   Package averaged_perceptron_tagger is already up-to-\n",
      "[nltk_data]       date!\n"
     ]
    },
    {
     "data": {
      "text/plain": [
       "True"
      ]
     },
     "execution_count": 12,
     "metadata": {},
     "output_type": "execute_result"
    }
   ],
   "source": [
    "nltk.download(\"stopwords\")\n",
    "nltk.download('wordnet')\n",
    "nltk.download('averaged_perceptron_tagger')"
   ]
  },
  {
   "cell_type": "code",
   "execution_count": 13,
   "id": "abaa7d20-7172-4ec6-9a28-ba974f5e376a",
   "metadata": {},
   "outputs": [],
   "source": [
    "from nltk.corpus import stopwords, wordnet\n",
    "from nltk.stem import WordNetLemmatizer\n",
    "from nltk.tokenize import wordpunct_tokenize"
   ]
  },
  {
   "cell_type": "code",
   "execution_count": 14,
   "id": "37461eee-e2f2-4b7c-abbb-cbef3466ce33",
   "metadata": {},
   "outputs": [],
   "source": [
    "def get_wordnet_pos(pos):\n",
    "  if pos.startswith('J'):\n",
    "    return wordnet.ADJ\n",
    "  elif pos.startswith('V'):\n",
    "    return wordnet.VERB\n",
    "  elif pos.startswith('N'):\n",
    "    return wordnet.NOUN\n",
    "  elif pos.startswith(\"R\"):\n",
    "    return wordnet.ADV\n",
    "  else:\n",
    "    return wordnet.NOUN"
   ]
  },
  {
   "cell_type": "code",
   "execution_count": null,
   "id": "30f1226a-b5c4-4a1c-aee6-eaf5cf67e3fc",
   "metadata": {},
   "outputs": [],
   "source": []
  },
  {
   "cell_type": "code",
   "execution_count": 15,
   "id": "83f60727-a0e9-46f4-b061-5a0f35654ee7",
   "metadata": {},
   "outputs": [],
   "source": [
    "def process_sentence(sent):\n",
    "    # lowercasing\n",
    "    sen = sent.lower()\n",
    "\n",
    "    # tokenizing\n",
    "    tkns = wordpunct_tokenize(sen)\n",
    "\n",
    "    # removing stopwords and punctuations\n",
    "    stops = stopwords.words('english')\n",
    "    stops.extend([\"..\",\"...\"])\n",
    "    puncts = string.punctuation\n",
    "    clean = []\n",
    "    for word in tkns:\n",
    "        if word not in stops and word not in puncts:\n",
    "            clean.append(word)\n",
    "\n",
    "    # word lemmatization\n",
    "    word_tags = nltk.pos_tag(clean)\n",
    "    lemm = WordNetLemmatizer()\n",
    "    word_lemm = []\n",
    "    for word,tag in word_tags:\n",
    "        word_lemm.append(lemm.lemmatize(word,get_wordnet_pos(tag)))\n",
    "\n",
    "    sen = None\n",
    "    tkns = None\n",
    "    clean = None\n",
    "    word_tags = None\n",
    "    \n",
    "    return word_lemm"
   ]
  },
  {
   "cell_type": "code",
   "execution_count": null,
   "id": "53afc518-5dca-463c-9c42-e6a40e450539",
   "metadata": {},
   "outputs": [],
   "source": []
  },
  {
   "cell_type": "code",
   "execution_count": null,
   "id": "c4c5d9e3-f1a0-43dc-9b36-6313921f03a1",
   "metadata": {},
   "outputs": [],
   "source": []
  },
  {
   "cell_type": "code",
   "execution_count": null,
   "id": "3b1194e8-a627-4322-b565-78ba981076b1",
   "metadata": {},
   "outputs": [],
   "source": []
  },
  {
   "cell_type": "code",
   "execution_count": 16,
   "id": "d3e5a9d7-3f71-4260-aa6e-a901836ff751",
   "metadata": {},
   "outputs": [],
   "source": [
    "df = pd.read_csv('../data/spam.csv')"
   ]
  },
  {
   "cell_type": "code",
   "execution_count": 17,
   "id": "85b42327-2f56-4f71-b3ec-4e655ee79f60",
   "metadata": {},
   "outputs": [
    {
     "data": {
      "text/html": [
       "<div>\n",
       "<style scoped>\n",
       "    .dataframe tbody tr th:only-of-type {\n",
       "        vertical-align: middle;\n",
       "    }\n",
       "\n",
       "    .dataframe tbody tr th {\n",
       "        vertical-align: top;\n",
       "    }\n",
       "\n",
       "    .dataframe thead th {\n",
       "        text-align: right;\n",
       "    }\n",
       "</style>\n",
       "<table border=\"1\" class=\"dataframe\">\n",
       "  <thead>\n",
       "    <tr style=\"text-align: right;\">\n",
       "      <th></th>\n",
       "      <th>status</th>\n",
       "      <th>sms</th>\n",
       "    </tr>\n",
       "  </thead>\n",
       "  <tbody>\n",
       "    <tr>\n",
       "      <th>0</th>\n",
       "      <td>ham</td>\n",
       "      <td>Go until jurong point, crazy.. Available only ...</td>\n",
       "    </tr>\n",
       "    <tr>\n",
       "      <th>1</th>\n",
       "      <td>ham</td>\n",
       "      <td>Ok lar... Joking wif u oni...</td>\n",
       "    </tr>\n",
       "    <tr>\n",
       "      <th>2</th>\n",
       "      <td>spam</td>\n",
       "      <td>Free entry in 2 a wkly comp to win FA Cup fina...</td>\n",
       "    </tr>\n",
       "    <tr>\n",
       "      <th>3</th>\n",
       "      <td>ham</td>\n",
       "      <td>U dun say so early hor... U c already then say...</td>\n",
       "    </tr>\n",
       "    <tr>\n",
       "      <th>4</th>\n",
       "      <td>ham</td>\n",
       "      <td>Nah I don't think he goes to usf, he lives aro...</td>\n",
       "    </tr>\n",
       "  </tbody>\n",
       "</table>\n",
       "</div>"
      ],
      "text/plain": [
       "  status                                                sms\n",
       "0    ham  Go until jurong point, crazy.. Available only ...\n",
       "1    ham                      Ok lar... Joking wif u oni...\n",
       "2   spam  Free entry in 2 a wkly comp to win FA Cup fina...\n",
       "3    ham  U dun say so early hor... U c already then say...\n",
       "4    ham  Nah I don't think he goes to usf, he lives aro..."
      ]
     },
     "execution_count": 17,
     "metadata": {},
     "output_type": "execute_result"
    }
   ],
   "source": [
    "df.head()"
   ]
  },
  {
   "cell_type": "code",
   "execution_count": 18,
   "id": "73bf435a-559c-411f-8d6e-3a78ff9996a6",
   "metadata": {},
   "outputs": [
    {
     "data": {
      "text/plain": [
       "['go',\n",
       " 'jurong',\n",
       " 'point',\n",
       " 'crazy',\n",
       " 'available',\n",
       " 'bugis',\n",
       " 'n',\n",
       " 'great',\n",
       " 'world',\n",
       " 'la',\n",
       " 'e',\n",
       " 'buffet',\n",
       " 'cine',\n",
       " 'get',\n",
       " 'amore',\n",
       " 'wat']"
      ]
     },
     "execution_count": 18,
     "metadata": {},
     "output_type": "execute_result"
    }
   ],
   "source": [
    "process_sentence(df['sms'].iloc[0])"
   ]
  },
  {
   "cell_type": "code",
   "execution_count": 19,
   "id": "918cb73a-508a-4592-aef1-7bb559739b92",
   "metadata": {},
   "outputs": [],
   "source": [
    "df['status'] = df['status'].map({\"spam\":1,\"ham\":0})"
   ]
  },
  {
   "cell_type": "code",
   "execution_count": 20,
   "id": "0750fee2-d249-4f77-9053-c7b505ab2fd5",
   "metadata": {},
   "outputs": [],
   "source": [
    "def build_freqs(df):\n",
    "    freqs = {}\n",
    "    for d in  df.values:\n",
    "        for word in process_sentence(d[1]):\n",
    "            freqs[(word,d[0])] = freqs.get((word,d[0]), 0) + 1\n",
    "\n",
    "    return freqs"
   ]
  },
  {
   "cell_type": "code",
   "execution_count": null,
   "id": "20cb60c0-60e7-46f6-9ff0-47ebf52e7826",
   "metadata": {},
   "outputs": [],
   "source": [
    "len(build_freqs(df))"
   ]
  },
  {
   "cell_type": "code",
   "execution_count": null,
   "id": "4ec3c44b-d146-477e-8640-e5b2871e7d3d",
   "metadata": {},
   "outputs": [],
   "source": []
  },
  {
   "cell_type": "code",
   "execution_count": null,
   "id": "c2230d4a-47e6-4599-980a-85a7e813434d",
   "metadata": {},
   "outputs": [],
   "source": []
  }
 ],
 "metadata": {
  "kernelspec": {
   "display_name": "Python 3 (ipykernel)",
   "language": "python",
   "name": "python3"
  },
  "language_info": {
   "codemirror_mode": {
    "name": "ipython",
    "version": 3
   },
   "file_extension": ".py",
   "mimetype": "text/x-python",
   "name": "python",
   "nbconvert_exporter": "python",
   "pygments_lexer": "ipython3",
   "version": "3.10.13"
  }
 },
 "nbformat": 4,
 "nbformat_minor": 5
}
